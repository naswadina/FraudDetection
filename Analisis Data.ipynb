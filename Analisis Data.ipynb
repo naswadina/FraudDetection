{
 "cells": [
  {
   "cell_type": "code",
   "execution_count": 1,
   "id": "23b12595-6ada-4796-894c-84410354e883",
   "metadata": {},
   "outputs": [],
   "source": [
    "import pandas as pd\n",
    "from sklearn.preprocessing import LabelEncoder\n",
    "from sklearn.model_selection import train_test_split\n",
    "from sklearn.ensemble import RandomForestClassifier\n",
    "from sklearn.metrics import classification_report, confusion_matrix\n",
    "from imblearn.over_sampling import SMOTE\n",
    "import seaborn as sns\n",
    "import matplotlib.pyplot as plt"
   ]
  },
  {
   "cell_type": "code",
   "execution_count": 2,
   "id": "9d31969e-61cb-47d5-a7f5-9dc6824d6bff",
   "metadata": {},
   "outputs": [
    {
     "data": {
      "text/html": [
       "<div>\n",
       "<style scoped>\n",
       "    .dataframe tbody tr th:only-of-type {\n",
       "        vertical-align: middle;\n",
       "    }\n",
       "\n",
       "    .dataframe tbody tr th {\n",
       "        vertical-align: top;\n",
       "    }\n",
       "\n",
       "    .dataframe thead th {\n",
       "        text-align: right;\n",
       "    }\n",
       "</style>\n",
       "<table border=\"1\" class=\"dataframe\">\n",
       "  <thead>\n",
       "    <tr style=\"text-align: right;\">\n",
       "      <th></th>\n",
       "      <th>Transaction ID</th>\n",
       "      <th>Date</th>\n",
       "      <th>Day of Week</th>\n",
       "      <th>Time</th>\n",
       "      <th>Type of Card</th>\n",
       "      <th>Entry Mode</th>\n",
       "      <th>Amount</th>\n",
       "      <th>Type of Transaction</th>\n",
       "      <th>Merchant Group</th>\n",
       "      <th>Country of Transaction</th>\n",
       "      <th>Shipping Address</th>\n",
       "      <th>Country of Residence</th>\n",
       "      <th>Gender</th>\n",
       "      <th>Age</th>\n",
       "      <th>Bank</th>\n",
       "      <th>Fraud</th>\n",
       "    </tr>\n",
       "  </thead>\n",
       "  <tbody>\n",
       "    <tr>\n",
       "      <th>0</th>\n",
       "      <td>#3577 209</td>\n",
       "      <td>14-Oct-20</td>\n",
       "      <td>Wednesday</td>\n",
       "      <td>19</td>\n",
       "      <td>Visa</td>\n",
       "      <td>Tap</td>\n",
       "      <td>£5</td>\n",
       "      <td>POS</td>\n",
       "      <td>Entertainment</td>\n",
       "      <td>United Kingdom</td>\n",
       "      <td>United Kingdom</td>\n",
       "      <td>United Kingdom</td>\n",
       "      <td>M</td>\n",
       "      <td>25.2</td>\n",
       "      <td>RBS</td>\n",
       "      <td>0</td>\n",
       "    </tr>\n",
       "    <tr>\n",
       "      <th>1</th>\n",
       "      <td>#3039 221</td>\n",
       "      <td>14-Oct-20</td>\n",
       "      <td>Wednesday</td>\n",
       "      <td>17</td>\n",
       "      <td>MasterCard</td>\n",
       "      <td>PIN</td>\n",
       "      <td>£288</td>\n",
       "      <td>POS</td>\n",
       "      <td>Services</td>\n",
       "      <td>USA</td>\n",
       "      <td>USA</td>\n",
       "      <td>USA</td>\n",
       "      <td>F</td>\n",
       "      <td>49.6</td>\n",
       "      <td>Lloyds</td>\n",
       "      <td>0</td>\n",
       "    </tr>\n",
       "    <tr>\n",
       "      <th>2</th>\n",
       "      <td>#2694 780</td>\n",
       "      <td>14-Oct-20</td>\n",
       "      <td>Wednesday</td>\n",
       "      <td>14</td>\n",
       "      <td>Visa</td>\n",
       "      <td>Tap</td>\n",
       "      <td>£5</td>\n",
       "      <td>POS</td>\n",
       "      <td>Restaurant</td>\n",
       "      <td>India</td>\n",
       "      <td>India</td>\n",
       "      <td>India</td>\n",
       "      <td>F</td>\n",
       "      <td>42.2</td>\n",
       "      <td>Barclays</td>\n",
       "      <td>0</td>\n",
       "    </tr>\n",
       "    <tr>\n",
       "      <th>3</th>\n",
       "      <td>#2640 960</td>\n",
       "      <td>13-Oct-20</td>\n",
       "      <td>Tuesday</td>\n",
       "      <td>14</td>\n",
       "      <td>Visa</td>\n",
       "      <td>Tap</td>\n",
       "      <td>£28</td>\n",
       "      <td>POS</td>\n",
       "      <td>Entertainment</td>\n",
       "      <td>United Kingdom</td>\n",
       "      <td>India</td>\n",
       "      <td>United Kingdom</td>\n",
       "      <td>F</td>\n",
       "      <td>51.0</td>\n",
       "      <td>Barclays</td>\n",
       "      <td>0</td>\n",
       "    </tr>\n",
       "    <tr>\n",
       "      <th>4</th>\n",
       "      <td>#2771 031</td>\n",
       "      <td>13-Oct-20</td>\n",
       "      <td>Tuesday</td>\n",
       "      <td>23</td>\n",
       "      <td>Visa</td>\n",
       "      <td>CVC</td>\n",
       "      <td>£91</td>\n",
       "      <td>Online</td>\n",
       "      <td>Electronics</td>\n",
       "      <td>USA</td>\n",
       "      <td>USA</td>\n",
       "      <td>United Kingdom</td>\n",
       "      <td>M</td>\n",
       "      <td>38.0</td>\n",
       "      <td>Halifax</td>\n",
       "      <td>1</td>\n",
       "    </tr>\n",
       "  </tbody>\n",
       "</table>\n",
       "</div>"
      ],
      "text/plain": [
       "  Transaction ID       Date Day of Week  Time Type of Card Entry Mode Amount  \\\n",
       "0      #3577 209  14-Oct-20   Wednesday    19         Visa        Tap     £5   \n",
       "1      #3039 221  14-Oct-20   Wednesday    17   MasterCard        PIN   £288   \n",
       "2      #2694 780  14-Oct-20   Wednesday    14         Visa        Tap     £5   \n",
       "3      #2640 960  13-Oct-20     Tuesday    14         Visa        Tap    £28   \n",
       "4      #2771 031  13-Oct-20     Tuesday    23         Visa        CVC    £91   \n",
       "\n",
       "  Type of Transaction Merchant Group Country of Transaction Shipping Address  \\\n",
       "0                 POS  Entertainment         United Kingdom   United Kingdom   \n",
       "1                 POS       Services                    USA              USA   \n",
       "2                 POS     Restaurant                  India            India   \n",
       "3                 POS  Entertainment         United Kingdom            India   \n",
       "4              Online    Electronics                    USA              USA   \n",
       "\n",
       "  Country of Residence Gender   Age      Bank  Fraud  \n",
       "0       United Kingdom      M  25.2       RBS      0  \n",
       "1                  USA      F  49.6    Lloyds      0  \n",
       "2                India      F  42.2  Barclays      0  \n",
       "3       United Kingdom      F  51.0  Barclays      0  \n",
       "4       United Kingdom      M  38.0   Halifax      1  "
      ]
     },
     "execution_count": 2,
     "metadata": {},
     "output_type": "execute_result"
    }
   ],
   "source": [
    "# Memuat dataset\n",
    "df = pd.read_csv(\"CreditCardData.csv\")\n",
    "df.head()"
   ]
  },
  {
   "cell_type": "code",
   "execution_count": 3,
   "id": "fad09b95-3d1a-4134-ac08-ee1c02049a64",
   "metadata": {},
   "outputs": [
    {
     "name": "stdout",
     "output_type": "stream",
     "text": [
      "Fraud\n",
      "0    92805\n",
      "1     7195\n",
      "Name: count, dtype: int64\n"
     ]
    }
   ],
   "source": [
    "#Jumlah non-Fraud(0) dan fraud(1)\n",
    "counts = df['Fraud'].value_counts()\n",
    "print(counts)"
   ]
  },
  {
   "cell_type": "code",
   "execution_count": 4,
   "id": "85eb240f-8222-4fe6-8f2e-8fd6ad1cb9f1",
   "metadata": {},
   "outputs": [
    {
     "data": {
      "text/plain": [
       "(100000, 16)"
      ]
     },
     "execution_count": 4,
     "metadata": {},
     "output_type": "execute_result"
    }
   ],
   "source": [
    "df.shape"
   ]
  },
  {
   "cell_type": "code",
   "execution_count": 5,
   "id": "25785e2e-d8dd-4aa7-9d04-b80cce182e11",
   "metadata": {},
   "outputs": [],
   "source": [
    "#Menghapus baris yang mengandung nilai NaN(Not a Number) atau nilai kosong dalam data\n",
    "df.dropna(inplace=True)"
   ]
  },
  {
   "cell_type": "code",
   "execution_count": 6,
   "id": "df175f5f-e5a1-439d-908d-5902e190c442",
   "metadata": {},
   "outputs": [
    {
     "data": {
      "text/plain": [
       "(99977, 16)"
      ]
     },
     "execution_count": 6,
     "metadata": {},
     "output_type": "execute_result"
    }
   ],
   "source": [
    "df.shape"
   ]
  },
  {
   "cell_type": "code",
   "execution_count": 7,
   "id": "c737747e-1e8e-41b0-a2b5-f5472289f4d3",
   "metadata": {},
   "outputs": [
    {
     "name": "stdout",
     "output_type": "stream",
     "text": [
      "Fraud\n",
      "0    92785\n",
      "1     7192\n",
      "Name: count, dtype: int64\n"
     ]
    }
   ],
   "source": [
    "#Jumlah non-Fraud(0) dan fraud(1) -> sesudah di bersihkan datanya\n",
    "counts = df['Fraud'].value_counts()\n",
    "print(counts)"
   ]
  },
  {
   "cell_type": "code",
   "execution_count": 8,
   "id": "2c48fdc1-1641-4e09-bdff-f4e5e31bdeff",
   "metadata": {},
   "outputs": [
    {
     "data": {
      "image/png": "[encoded data removed]",
      "text/plain": [
       "<Figure size 600x600 with 1 Axes>"
      ]
     },
     "metadata": {},
     "output_type": "display_data"
    }
   ],
   "source": [
    "#Visualisasi Jumlah non-fraud(0) dan fraud(1)\n",
    "fraud_counts = df['Fraud'].value_counts()\n",
    "labels = ['0', '1']\n",
    "# Membuat pie chart\n",
    "plt.figure(figsize=(6, 6))\n",
    "plt.pie(\n",
    "    fraud_counts, \n",
    "    labels=labels, \n",
    "    autopct='%1.1f%%', \n",
    "    startangle=90, \n",
    "    colors=['lightblue', 'lightpink']\n",
    ")\n",
    "plt.title('Perbandingan Transaksi Penipuan dan Tidak Penipuan')\n",
    "plt.show()"
   ]
  },
  {
   "cell_type": "code",
   "execution_count": 9,
   "id": "e72728fe-b44a-40ed-ad3a-fbfd89874785",
   "metadata": {},
   "outputs": [],
   "source": [
    "# Menghapus simbol \"£\" dari kolom Amount dan mengonversi ke tipe numerik\n",
    "df['Amount'] = df['Amount'].apply(lambda x: x.replace('£', '')).astype(float)"
   ]
  },
  {
   "cell_type": "code",
   "execution_count": 10,
   "id": "bf27c83f-9d12-449d-8632-507034bba66c",
   "metadata": {},
   "outputs": [],
   "source": [
    "# Menghapus beberapa kolom yang tidak diperlukan\n",
    "df = df.drop(['Date','Time','Transaction ID', 'Merchant Group', 'Shipping Address', 'Country of Residence', 'Age'], axis=1)"
   ]
  },
  {
   "cell_type": "code",
   "execution_count": 11,
   "id": "0dc4dcc2-3173-47b7-a091-2313578f27fc",
   "metadata": {},
   "outputs": [],
   "source": [
    "# Label Encoding untuk kolom kategori\n",
    "label_encoder = LabelEncoder()\n",
    "categorical_columns = ['Day of Week', 'Type of Card', 'Entry Mode', 'Type of Transaction', 'Country of Transaction', 'Gender', 'Bank']\n",
    "for column in categorical_columns:\n",
    "    df[column] = label_encoder.fit_transform(df[column])"
   ]
  },
  {
   "cell_type": "code",
   "execution_count": 12,
   "id": "90a928b0-4b40-4af7-952e-81c4ad4353c2",
   "metadata": {},
   "outputs": [],
   "source": [
    "# Rename columns to match FastAPI format (camelCase)\n",
    "df.rename(columns={\n",
    "    'Amount': 'amount',\n",
    "    'Day of Week': 'dayOfWeek',\n",
    "    'Type of Card': 'typeOfCard',\n",
    "    'Entry Mode': 'entryMode',\n",
    "    'Type of Transaction': 'typeOfTransaction',\n",
    "    'Country of Transaction': 'countryOfTransaction',\n",
    "    'Gender': 'gender',\n",
    "    'Bank': 'bank',\n",
    "    'Fraud': 'fraud'\n",
    "}, inplace=True)"
   ]
  },
  {
   "cell_type": "code",
   "execution_count": 13,
   "id": "3d7360e9-c896-49a2-9401-bbe1975dca98",
   "metadata": {},
   "outputs": [],
   "source": [
    "# Pisahkan fitur dan target\n",
    "X = df.drop(columns=['fraud'])  # Fitur\n",
    "y = df['fraud']  # Target\n",
    "\n",
    "# Membagi dataset pelatihan dan pengujian\n",
    "X_train, X_test, y_train, y_test = train_test_split(X, y, test_size=0.2, random_state=2)"
   ]
  },
  {
   "cell_type": "code",
   "execution_count": 14,
   "id": "c4bb4deb-0af3-4c5c-b2d5-8149106bdb58",
   "metadata": {},
   "outputs": [
    {
     "name": "stdout",
     "output_type": "stream",
     "text": [
      "Distribusi kelas sebelum SMOTE:\n",
      "fraud\n",
      "0    74245\n",
      "1     5736\n",
      "Name: count, dtype: int64\n",
      "\n",
      "Distribusi kelas setelah SMOTE:\n",
      "fraud\n",
      "0    74245\n",
      "1    74245\n",
      "Name: count, dtype: int64\n"
     ]
    }
   ],
   "source": [
    "#PENYEIMBANGAN DATA 9 (Yang di ambil data latih)\n",
    "# Tampilkan distribusi kelas sebelum SMOTE\n",
    "print(\"Distribusi kelas sebelum SMOTE:\")\n",
    "print(y_train.value_counts())\n",
    "\n",
    "# Menggunakan SMOTE untuk mengatasi ketidakseimbangan kelas\n",
    "smote = SMOTE(random_state=42)\n",
    "X_train_resampled, y_train_resampled = smote.fit_resample(X_train, y_train)\n",
    "\n",
    "# Tampilkan distribusi kelas setelah SMOTE\n",
    "print(\"\\nDistribusi kelas setelah SMOTE:\")\n",
    "print(y_train_resampled.value_counts())"
   ]
  },
  {
   "cell_type": "code",
   "execution_count": 15,
   "id": "9cc082d8-0a5a-4d66-9d8f-471b7c047f13",
   "metadata": {},
   "outputs": [
    {
     "name": "stdout",
     "output_type": "stream",
     "text": [
      "\n",
      "Classification Report:\n",
      "              precision    recall  f1-score   support\n",
      "\n",
      "           0       0.95      0.89      0.92     18540\n",
      "           1       0.24      0.42      0.30      1456\n",
      "\n",
      "    accuracy                           0.86     19996\n",
      "   macro avg       0.59      0.66      0.61     19996\n",
      "weighted avg       0.90      0.86      0.88     19996\n",
      "\n"
     ]
    }
   ],
   "source": [
    "# Membuat model Random Forest\n",
    "rf_model = RandomForestClassifier(n_estimators=100, random_state=42)\n",
    "# Melatih model dengan data latih yang sudah seimbang dan Memprediksi dengan data uji (Model RF)\n",
    "rf_model.fit(X_train_resampled, y_train_resampled)\n",
    "\n",
    "# Menguji Model dan Menampilkan Hasil\n",
    "y_pred = rf_model.predict(X_test)\n",
    "print(\"\\nClassification Report:\")\n",
    "print(classification_report(y_test, y_pred))"
   ]
  }
 ],
 "metadata": {
  "kernelspec": {
   "display_name": "Python 3 (ipykernel)",
   "language": "python",
   "name": "python3"
  },
  "language_info": {
   "codemirror_mode": {
    "name": "ipython",
    "version": 3
   },
   "file_extension": ".py",
   "mimetype": "text/x-python",
   "name": "python",
   "nbconvert_exporter": "python",
   "pygments_lexer": "ipython3",
   "version": "3.12.4"
  }
 },
 "nbformat": 4,
 "nbformat_minor": 5
}
