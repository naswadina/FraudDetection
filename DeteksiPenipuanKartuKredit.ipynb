{
 "cells": [
  {
   "cell_type": "code",
   "execution_count": 1,
   "id": "1b372d55-e3b0-48bb-906c-f7813e96afa4",
   "metadata": {},
   "outputs": [],
   "source": [
    "import pandas as pd #akses file csv\n",
    "import matplotlib.pyplot as plt #visualisasi data"
   ]
  },
  {
   "cell_type": "code",
   "execution_count": 2,
   "id": "5b55a2bf-a0f8-4688-b2a9-817b5931d8dd",
   "metadata": {},
   "outputs": [
    {
     "data": {
      "text/html": [
       "<div>\n",
       "<style scoped>\n",
       "    .dataframe tbody tr th:only-of-type {\n",
       "        vertical-align: middle;\n",
       "    }\n",
       "\n",
       "    .dataframe tbody tr th {\n",
       "        vertical-align: top;\n",
       "    }\n",
       "\n",
       "    .dataframe thead th {\n",
       "        text-align: right;\n",
       "    }\n",
       "</style>\n",
       "<table border=\"1\" class=\"dataframe\">\n",
       "  <thead>\n",
       "    <tr style=\"text-align: right;\">\n",
       "      <th></th>\n",
       "      <th>Transaction ID</th>\n",
       "      <th>Date</th>\n",
       "      <th>Day of Week</th>\n",
       "      <th>Time</th>\n",
       "      <th>Type of Card</th>\n",
       "      <th>Entry Mode</th>\n",
       "      <th>Amount</th>\n",
       "      <th>Type of Transaction</th>\n",
       "      <th>Merchant Group</th>\n",
       "      <th>Country of Transaction</th>\n",
       "      <th>Shipping Address</th>\n",
       "      <th>Country of Residence</th>\n",
       "      <th>Gender</th>\n",
       "      <th>Age</th>\n",
       "      <th>Bank</th>\n",
       "      <th>Fraud</th>\n",
       "    </tr>\n",
       "  </thead>\n",
       "  <tbody>\n",
       "    <tr>\n",
       "      <th>0</th>\n",
       "      <td>#3577 209</td>\n",
       "      <td>14-Oct-20</td>\n",
       "      <td>Wednesday</td>\n",
       "      <td>19</td>\n",
       "      <td>Visa</td>\n",
       "      <td>Tap</td>\n",
       "      <td>£5</td>\n",
       "      <td>POS</td>\n",
       "      <td>Entertainment</td>\n",
       "      <td>United Kingdom</td>\n",
       "      <td>United Kingdom</td>\n",
       "      <td>United Kingdom</td>\n",
       "      <td>M</td>\n",
       "      <td>25.2</td>\n",
       "      <td>RBS</td>\n",
       "      <td>0</td>\n",
       "    </tr>\n",
       "    <tr>\n",
       "      <th>1</th>\n",
       "      <td>#3039 221</td>\n",
       "      <td>14-Oct-20</td>\n",
       "      <td>Wednesday</td>\n",
       "      <td>17</td>\n",
       "      <td>MasterCard</td>\n",
       "      <td>PIN</td>\n",
       "      <td>£288</td>\n",
       "      <td>POS</td>\n",
       "      <td>Services</td>\n",
       "      <td>USA</td>\n",
       "      <td>USA</td>\n",
       "      <td>USA</td>\n",
       "      <td>F</td>\n",
       "      <td>49.6</td>\n",
       "      <td>Lloyds</td>\n",
       "      <td>0</td>\n",
       "    </tr>\n",
       "    <tr>\n",
       "      <th>2</th>\n",
       "      <td>#2694 780</td>\n",
       "      <td>14-Oct-20</td>\n",
       "      <td>Wednesday</td>\n",
       "      <td>14</td>\n",
       "      <td>Visa</td>\n",
       "      <td>Tap</td>\n",
       "      <td>£5</td>\n",
       "      <td>POS</td>\n",
       "      <td>Restaurant</td>\n",
       "      <td>India</td>\n",
       "      <td>India</td>\n",
       "      <td>India</td>\n",
       "      <td>F</td>\n",
       "      <td>42.2</td>\n",
       "      <td>Barclays</td>\n",
       "      <td>0</td>\n",
       "    </tr>\n",
       "    <tr>\n",
       "      <th>3</th>\n",
       "      <td>#2640 960</td>\n",
       "      <td>13-Oct-20</td>\n",
       "      <td>Tuesday</td>\n",
       "      <td>14</td>\n",
       "      <td>Visa</td>\n",
       "      <td>Tap</td>\n",
       "      <td>£28</td>\n",
       "      <td>POS</td>\n",
       "      <td>Entertainment</td>\n",
       "      <td>United Kingdom</td>\n",
       "      <td>India</td>\n",
       "      <td>United Kingdom</td>\n",
       "      <td>F</td>\n",
       "      <td>51.0</td>\n",
       "      <td>Barclays</td>\n",
       "      <td>0</td>\n",
       "    </tr>\n",
       "    <tr>\n",
       "      <th>4</th>\n",
       "      <td>#2771 031</td>\n",
       "      <td>13-Oct-20</td>\n",
       "      <td>Tuesday</td>\n",
       "      <td>23</td>\n",
       "      <td>Visa</td>\n",
       "      <td>CVC</td>\n",
       "      <td>£91</td>\n",
       "      <td>Online</td>\n",
       "      <td>Electronics</td>\n",
       "      <td>USA</td>\n",
       "      <td>USA</td>\n",
       "      <td>United Kingdom</td>\n",
       "      <td>M</td>\n",
       "      <td>38.0</td>\n",
       "      <td>Halifax</td>\n",
       "      <td>1</td>\n",
       "    </tr>\n",
       "  </tbody>\n",
       "</table>\n",
       "</div>"
      ],
      "text/plain": [
       "  Transaction ID       Date Day of Week  Time Type of Card Entry Mode Amount  \\\n",
       "0      #3577 209  14-Oct-20   Wednesday    19         Visa        Tap     £5   \n",
       "1      #3039 221  14-Oct-20   Wednesday    17   MasterCard        PIN   £288   \n",
       "2      #2694 780  14-Oct-20   Wednesday    14         Visa        Tap     £5   \n",
       "3      #2640 960  13-Oct-20     Tuesday    14         Visa        Tap    £28   \n",
       "4      #2771 031  13-Oct-20     Tuesday    23         Visa        CVC    £91   \n",
       "\n",
       "  Type of Transaction Merchant Group Country of Transaction Shipping Address  \\\n",
       "0                 POS  Entertainment         United Kingdom   United Kingdom   \n",
       "1                 POS       Services                    USA              USA   \n",
       "2                 POS     Restaurant                  India            India   \n",
       "3                 POS  Entertainment         United Kingdom            India   \n",
       "4              Online    Electronics                    USA              USA   \n",
       "\n",
       "  Country of Residence Gender   Age      Bank  Fraud  \n",
       "0       United Kingdom      M  25.2       RBS      0  \n",
       "1                  USA      F  49.6    Lloyds      0  \n",
       "2                India      F  42.2  Barclays      0  \n",
       "3       United Kingdom      F  51.0  Barclays      0  \n",
       "4       United Kingdom      M  38.0   Halifax      1  "
      ]
     },
     "execution_count": 2,
     "metadata": {},
     "output_type": "execute_result"
    }
   ],
   "source": [
    "df = pd.read_csv(\"CreditCardData.csv\")\n",
    "df.head()"
   ]
  },
  {
   "cell_type": "code",
   "execution_count": 3,
   "id": "ed02ad90-8e98-41eb-974d-be39be8b34ed",
   "metadata": {},
   "outputs": [
    {
     "data": {
      "text/html": [
       "<div>\n",
       "<style scoped>\n",
       "    .dataframe tbody tr th:only-of-type {\n",
       "        vertical-align: middle;\n",
       "    }\n",
       "\n",
       "    .dataframe tbody tr th {\n",
       "        vertical-align: top;\n",
       "    }\n",
       "\n",
       "    .dataframe thead th {\n",
       "        text-align: right;\n",
       "    }\n",
       "</style>\n",
       "<table border=\"1\" class=\"dataframe\">\n",
       "  <thead>\n",
       "    <tr style=\"text-align: right;\">\n",
       "      <th></th>\n",
       "      <th>Transaction ID</th>\n",
       "      <th>Date</th>\n",
       "      <th>Day of Week</th>\n",
       "      <th>Time</th>\n",
       "      <th>Type of Card</th>\n",
       "      <th>Entry Mode</th>\n",
       "      <th>Amount</th>\n",
       "      <th>Type of Transaction</th>\n",
       "      <th>Merchant Group</th>\n",
       "      <th>Country of Transaction</th>\n",
       "      <th>Shipping Address</th>\n",
       "      <th>Country of Residence</th>\n",
       "      <th>Gender</th>\n",
       "      <th>Age</th>\n",
       "      <th>Bank</th>\n",
       "      <th>Fraud</th>\n",
       "    </tr>\n",
       "  </thead>\n",
       "  <tbody>\n",
       "    <tr>\n",
       "      <th>99995</th>\n",
       "      <td>#3203 892</td>\n",
       "      <td>13-Oct-20</td>\n",
       "      <td>Tuesday</td>\n",
       "      <td>22</td>\n",
       "      <td>MasterCard</td>\n",
       "      <td>Tap</td>\n",
       "      <td>£15</td>\n",
       "      <td>POS</td>\n",
       "      <td>Electronics</td>\n",
       "      <td>United Kingdom</td>\n",
       "      <td>United Kingdom</td>\n",
       "      <td>United Kingdom</td>\n",
       "      <td>F</td>\n",
       "      <td>53.8</td>\n",
       "      <td>Halifax</td>\n",
       "      <td>0</td>\n",
       "    </tr>\n",
       "    <tr>\n",
       "      <th>99996</th>\n",
       "      <td>#3304 849</td>\n",
       "      <td>14-Oct-20</td>\n",
       "      <td>Wednesday</td>\n",
       "      <td>23</td>\n",
       "      <td>MasterCard</td>\n",
       "      <td>PIN</td>\n",
       "      <td>£7</td>\n",
       "      <td>ATM</td>\n",
       "      <td>Children</td>\n",
       "      <td>Russia</td>\n",
       "      <td>Russia</td>\n",
       "      <td>Russia</td>\n",
       "      <td>M</td>\n",
       "      <td>45.0</td>\n",
       "      <td>Barclays</td>\n",
       "      <td>0</td>\n",
       "    </tr>\n",
       "    <tr>\n",
       "      <th>99997</th>\n",
       "      <td>#3532 129</td>\n",
       "      <td>13-Oct-20</td>\n",
       "      <td>Tuesday</td>\n",
       "      <td>11</td>\n",
       "      <td>MasterCard</td>\n",
       "      <td>PIN</td>\n",
       "      <td>£21</td>\n",
       "      <td>ATM</td>\n",
       "      <td>Subscription</td>\n",
       "      <td>United Kingdom</td>\n",
       "      <td>United Kingdom</td>\n",
       "      <td>United Kingdom</td>\n",
       "      <td>F</td>\n",
       "      <td>46.5</td>\n",
       "      <td>HSBC</td>\n",
       "      <td>0</td>\n",
       "    </tr>\n",
       "    <tr>\n",
       "      <th>99998</th>\n",
       "      <td>#3107 092</td>\n",
       "      <td>14-Oct-20</td>\n",
       "      <td>Wednesday</td>\n",
       "      <td>22</td>\n",
       "      <td>Visa</td>\n",
       "      <td>Tap</td>\n",
       "      <td>£25</td>\n",
       "      <td>POS</td>\n",
       "      <td>Products</td>\n",
       "      <td>United Kingdom</td>\n",
       "      <td>United Kingdom</td>\n",
       "      <td>United Kingdom</td>\n",
       "      <td>M</td>\n",
       "      <td>48.2</td>\n",
       "      <td>Barclays</td>\n",
       "      <td>0</td>\n",
       "    </tr>\n",
       "    <tr>\n",
       "      <th>99999</th>\n",
       "      <td>#3400 711</td>\n",
       "      <td>14-Oct-20</td>\n",
       "      <td>Wednesday</td>\n",
       "      <td>16</td>\n",
       "      <td>Visa</td>\n",
       "      <td>PIN</td>\n",
       "      <td>£226</td>\n",
       "      <td>POS</td>\n",
       "      <td>Restaurant</td>\n",
       "      <td>United Kingdom</td>\n",
       "      <td>United Kingdom</td>\n",
       "      <td>United Kingdom</td>\n",
       "      <td>M</td>\n",
       "      <td>31.7</td>\n",
       "      <td>Monzo</td>\n",
       "      <td>0</td>\n",
       "    </tr>\n",
       "  </tbody>\n",
       "</table>\n",
       "</div>"
      ],
      "text/plain": [
       "      Transaction ID       Date Day of Week  Time Type of Card Entry Mode  \\\n",
       "99995      #3203 892  13-Oct-20     Tuesday    22   MasterCard        Tap   \n",
       "99996      #3304 849  14-Oct-20   Wednesday    23   MasterCard        PIN   \n",
       "99997      #3532 129  13-Oct-20     Tuesday    11   MasterCard        PIN   \n",
       "99998      #3107 092  14-Oct-20   Wednesday    22         Visa        Tap   \n",
       "99999      #3400 711  14-Oct-20   Wednesday    16         Visa        PIN   \n",
       "\n",
       "      Amount Type of Transaction Merchant Group Country of Transaction  \\\n",
       "99995    £15                 POS    Electronics         United Kingdom   \n",
       "99996     £7                 ATM       Children                 Russia   \n",
       "99997    £21                 ATM   Subscription         United Kingdom   \n",
       "99998    £25                 POS       Products         United Kingdom   \n",
       "99999   £226                 POS     Restaurant         United Kingdom   \n",
       "\n",
       "      Shipping Address Country of Residence Gender   Age      Bank  Fraud  \n",
       "99995   United Kingdom       United Kingdom      F  53.8   Halifax      0  \n",
       "99996           Russia               Russia      M  45.0  Barclays      0  \n",
       "99997   United Kingdom       United Kingdom      F  46.5      HSBC      0  \n",
       "99998   United Kingdom       United Kingdom      M  48.2  Barclays      0  \n",
       "99999   United Kingdom       United Kingdom      M  31.7     Monzo      0  "
      ]
     },
     "execution_count": 3,
     "metadata": {},
     "output_type": "execute_result"
    }
   ],
   "source": [
    "df.tail()"
   ]
  },
  {
   "cell_type": "code",
   "execution_count": 4,
   "id": "4dafce1e-a0e5-45a9-8d77-cabb64f30d01",
   "metadata": {},
   "outputs": [
    {
     "data": {
      "text/plain": [
       "(100000, 16)"
      ]
     },
     "execution_count": 4,
     "metadata": {},
     "output_type": "execute_result"
    }
   ],
   "source": [
    "df.shape"
   ]
  },
  {
   "cell_type": "code",
   "execution_count": 5,
   "id": "9e6e6555-f21c-41ab-b74c-972976b6c6ce",
   "metadata": {},
   "outputs": [
    {
     "data": {
      "text/plain": [
       "Transaction ID             0\n",
       "Date                       0\n",
       "Day of Week                0\n",
       "Time                       0\n",
       "Type of Card               0\n",
       "Entry Mode                 0\n",
       "Amount                     6\n",
       "Type of Transaction        0\n",
       "Merchant Group            10\n",
       "Country of Transaction     0\n",
       "Shipping Address           5\n",
       "Country of Residence       0\n",
       "Gender                     4\n",
       "Age                        0\n",
       "Bank                       0\n",
       "Fraud                      0\n",
       "dtype: int64"
      ]
     },
     "execution_count": 5,
     "metadata": {},
     "output_type": "execute_result"
    }
   ],
   "source": [
    "df.isnull().sum() #cek nilai null"
   ]
  },
  {
   "cell_type": "code",
   "execution_count": 6,
   "id": "42d2fd08-f027-4edb-b896-62bb5d79c786",
   "metadata": {},
   "outputs": [],
   "source": [
    "#Menghapus baris yang mengandung nilai NaN(Not a Number) atau nilai kosong dalam data\n",
    "df.dropna(inplace=True)"
   ]
  },
  {
   "cell_type": "code",
   "execution_count": 7,
   "id": "db5903ec-8a9f-404d-8c46-ff32940d9aa5",
   "metadata": {},
   "outputs": [
    {
     "data": {
      "text/plain": [
       "(99977, 16)"
      ]
     },
     "execution_count": 7,
     "metadata": {},
     "output_type": "execute_result"
    }
   ],
   "source": [
    "df.shape"
   ]
  },
  {
   "cell_type": "code",
   "execution_count": 8,
   "id": "4f4bbe3e-093a-4565-8bcf-391391e8da03",
   "metadata": {},
   "outputs": [
    {
     "data": {
      "text/plain": [
       "0"
      ]
     },
     "execution_count": 8,
     "metadata": {},
     "output_type": "execute_result"
    }
   ],
   "source": [
    "#Menghitung jumlah baris duplikat\n",
    "df.duplicated().sum()"
   ]
  },
  {
   "cell_type": "code",
   "execution_count": 9,
   "id": "2bd98fbd-b606-45f1-93bf-0d3dfeaad6ef",
   "metadata": {},
   "outputs": [],
   "source": [
    "#menghapus simbol \"£\" (Pound Sterling) \n",
    "df['Amount']=df['Amount'].apply(lambda x:x.replace('£',''))"
   ]
  },
  {
   "cell_type": "code",
   "execution_count": 10,
   "id": "205ed78c-46ad-43d4-8f8e-2a8a938dcb45",
   "metadata": {},
   "outputs": [
    {
     "name": "stdout",
     "output_type": "stream",
     "text": [
      "Fraud\n",
      "0    92785\n",
      "1     7192\n",
      "Name: count, dtype: int64\n"
     ]
    }
   ],
   "source": [
    "#Jumlah non-Fraud(0) dan fraud(1)\n",
    "counts = df['Fraud'].value_counts()\n",
    "print(counts)"
   ]
  },
  {
   "cell_type": "code",
   "execution_count": 11,
   "id": "2d4c7500-9a98-4b98-a28d-384ae778cbad",
   "metadata": {},
   "outputs": [
    {
     "data": {
      "image/png": "[encoded data removed]",
      "text/plain": [
       "<Figure size 600x600 with 1 Axes>"
      ]
     },
     "metadata": {},
     "output_type": "display_data"
    }
   ],
   "source": [
    "#Visualisasi Jumlah non-fraud(0) dan fraud(1)\n",
    "fraud_counts = df['Fraud'].value_counts()\n",
    "labels = ['0', '1']\n",
    "# Membuat pie chart\n",
    "plt.figure(figsize=(6, 6))\n",
    "plt.pie(\n",
    "    fraud_counts, \n",
    "    labels=labels, \n",
    "    autopct='%1.1f%%', \n",
    "    startangle=90, \n",
    "    colors=['lightblue', 'lightpink']\n",
    ")\n",
    "plt.title('Perbandingan Transaksi Penipuan dan Tidak Penipuan')\n",
    "plt.show()"
   ]
  },
  {
   "cell_type": "code",
   "execution_count": 12,
   "id": "a393ee9d-26b1-4782-b37f-3a5089e4a1f1",
   "metadata": {},
   "outputs": [
    {
     "name": "stdout",
     "output_type": "stream",
     "text": [
      "Day of Week\n",
      "Wednesday    50166\n",
      "Tuesday      49785\n",
      "Friday          14\n",
      "Thursday        12\n",
      "Name: count, dtype: int64\n"
     ]
    }
   ],
   "source": [
    "counts = df['Day of Week'].value_counts()\n",
    "print(counts)"
   ]
  },
  {
   "cell_type": "code",
   "execution_count": 13,
   "id": "a1dc085e-73ce-469c-868f-d341e12f6029",
   "metadata": {},
   "outputs": [
    {
     "name": "stdout",
     "output_type": "stream",
     "text": [
      "Time\n",
      "13    5807\n",
      "16    5785\n",
      "12    5754\n",
      "23    5750\n",
      "11    5747\n",
      "7     5715\n",
      "14    5684\n",
      "8     5683\n",
      "15    5681\n",
      "21    5681\n",
      "17    5663\n",
      "22    5622\n",
      "19    5622\n",
      "10    5609\n",
      "9     5569\n",
      "18    5547\n",
      "20    5521\n",
      "2      536\n",
      "3      531\n",
      "6      515\n",
      "0      509\n",
      "5      488\n",
      "1      483\n",
      "4      474\n",
      "24       1\n",
      "Name: count, dtype: int64\n"
     ]
    }
   ],
   "source": [
    "counts = df['Time'].value_counts()\n",
    "print(counts)"
   ]
  },
  {
   "cell_type": "code",
   "execution_count": 14,
   "id": "fd892c3f-3733-4248-b5d3-4d7b4fdc51c1",
   "metadata": {},
   "outputs": [
    {
     "name": "stdout",
     "output_type": "stream",
     "text": [
      "Type of Card\n",
      "Visa          53800\n",
      "MasterCard    46177\n",
      "Name: count, dtype: int64\n"
     ]
    }
   ],
   "source": [
    "counts = df['Type of Card'].value_counts()\n",
    "print(counts)"
   ]
  },
  {
   "cell_type": "code",
   "execution_count": 15,
   "id": "075b9ae4-e6a0-4070-a2fa-cd120f81d7c9",
   "metadata": {},
   "outputs": [
    {
     "name": "stdout",
     "output_type": "stream",
     "text": [
      "Entry Mode\n",
      "PIN    49966\n",
      "CVC    33470\n",
      "Tap    16541\n",
      "Name: count, dtype: int64\n"
     ]
    }
   ],
   "source": [
    "counts = df['Entry Mode'].value_counts()\n",
    "print(counts)"
   ]
  },
  {
   "cell_type": "code",
   "execution_count": 16,
   "id": "8b0dbdd7-d8cb-4165-8e54-70ed716027bf",
   "metadata": {},
   "outputs": [
    {
     "name": "stdout",
     "output_type": "stream",
     "text": [
      "Amount\n",
      "17     2153\n",
      "23     2106\n",
      "16     2084\n",
      "28     2077\n",
      "15     2073\n",
      "       ... \n",
      "124     106\n",
      "145     105\n",
      "380     102\n",
      "375     100\n",
      "393      99\n",
      "Name: count, Length: 396, dtype: int64\n"
     ]
    }
   ],
   "source": [
    "counts = df['Amount'].value_counts()\n",
    "print(counts)"
   ]
  },
  {
   "cell_type": "code",
   "execution_count": 17,
   "id": "5ec68ad4-1c12-49f9-9889-48eecd62604d",
   "metadata": {},
   "outputs": [
    {
     "name": "stdout",
     "output_type": "stream",
     "text": [
      "Type of Transaction\n",
      "Online    33470\n",
      "ATM       33265\n",
      "POS       33242\n",
      "Name: count, dtype: int64\n"
     ]
    }
   ],
   "source": [
    "counts = df['Type of Transaction'].value_counts()\n",
    "print(counts)"
   ]
  },
  {
   "cell_type": "code",
   "execution_count": 18,
   "id": "b047f5fe-308b-4ceb-ab2b-262897de267a",
   "metadata": {},
   "outputs": [
    {
     "name": "stdout",
     "output_type": "stream",
     "text": [
      "Merchant Group\n",
      "Children         10676\n",
      "Restaurant       10074\n",
      "Services         10015\n",
      "Gaming           10010\n",
      "Fashion           9987\n",
      "Subscription      9976\n",
      "Food              9846\n",
      "Entertainment     9839\n",
      "Products          9838\n",
      "Electronics       9716\n",
      "Name: count, dtype: int64\n"
     ]
    }
   ],
   "source": [
    "counts = df['Merchant Group'].value_counts()\n",
    "print(counts)"
   ]
  },
  {
   "cell_type": "code",
   "execution_count": 19,
   "id": "1db6de43-607e-4ef3-a37b-337fa0ecb919",
   "metadata": {},
   "outputs": [
    {
     "name": "stdout",
     "output_type": "stream",
     "text": [
      "Country of Transaction\n",
      "United Kingdom    71184\n",
      "USA                7295\n",
      "Russia             7255\n",
      "China              7150\n",
      "India              7093\n",
      "Name: count, dtype: int64\n"
     ]
    }
   ],
   "source": [
    "counts = df['Country of Transaction'].value_counts()\n",
    "print(counts)"
   ]
  },
  {
   "cell_type": "code",
   "execution_count": 20,
   "id": "36f058bb-f19e-4034-8bdc-bf5414dbc551",
   "metadata": {},
   "outputs": [
    {
     "name": "stdout",
     "output_type": "stream",
     "text": [
      "Shipping Address\n",
      "United Kingdom    60898\n",
      "USA               10038\n",
      "Russia             9797\n",
      "China              9696\n",
      "India              9548\n",
      "Name: count, dtype: int64\n"
     ]
    }
   ],
   "source": [
    "counts = df['Shipping Address'].value_counts()\n",
    "print(counts)"
   ]
  },
  {
   "cell_type": "code",
   "execution_count": 21,
   "id": "6861a5c1-ba2d-491a-999a-77f1053733c9",
   "metadata": {},
   "outputs": [
    {
     "name": "stdout",
     "output_type": "stream",
     "text": [
      "Country of Residence\n",
      "United Kingdom    81841\n",
      "Russia             4617\n",
      "USA                4588\n",
      "China              4528\n",
      "India              4403\n",
      "Name: count, dtype: int64\n"
     ]
    }
   ],
   "source": [
    "counts = df['Country of Residence'].value_counts()\n",
    "print(counts)"
   ]
  },
  {
   "cell_type": "code",
   "execution_count": 22,
   "id": "17f6bd06-7359-4984-8575-3cc89e565288",
   "metadata": {},
   "outputs": [
    {
     "name": "stdout",
     "output_type": "stream",
     "text": [
      "Gender\n",
      "M    50866\n",
      "F    49111\n",
      "Name: count, dtype: int64\n"
     ]
    }
   ],
   "source": [
    "counts = df['Gender'].value_counts()\n",
    "print(counts)"
   ]
  },
  {
   "cell_type": "code",
   "execution_count": 23,
   "id": "0d4bcdab-7f39-4398-a67a-8e5fb473292a",
   "metadata": {},
   "outputs": [
    {
     "name": "stdout",
     "output_type": "stream",
     "text": [
      "Age\n",
      "43.0    437\n",
      "43.8    428\n",
      "45.0    427\n",
      "46.7    423\n",
      "45.8    419\n",
      "       ... \n",
      "81.2      1\n",
      "81.4      1\n",
      "82.9      1\n",
      "81.5      1\n",
      "78.8      1\n",
      "Name: count, Length: 645, dtype: int64\n"
     ]
    }
   ],
   "source": [
    "counts = df['Age'].value_counts()\n",
    "print(counts)"
   ]
  },
  {
   "cell_type": "code",
   "execution_count": 24,
   "id": "0bdc0483-4ec7-436f-b1e2-2d40ca94f7fa",
   "metadata": {},
   "outputs": [
    {
     "name": "stdout",
     "output_type": "stream",
     "text": [
      "Bank\n",
      "Barclays    29929\n",
      "Monzo       10102\n",
      "RBS         10045\n",
      "Metro       10011\n",
      "Barlcays     9989\n",
      "Halifax      9984\n",
      "Lloyds       9963\n",
      "HSBC         9954\n",
      "Name: count, dtype: int64\n"
     ]
    }
   ],
   "source": [
    "counts = df['Bank'].value_counts()\n",
    "print(counts)"
   ]
  },
  {
   "cell_type": "code",
   "execution_count": 25,
   "id": "5934370b-74e6-4d4f-acd3-77802f5df50a",
   "metadata": {},
   "outputs": [],
   "source": [
    "#Mengelompokkan data dengan keterangan fraud (1) dengan nama fraud_data\n",
    "fraud_data = df[df['Fraud'] == 1]"
   ]
  },
  {
   "cell_type": "code",
   "execution_count": 26,
   "id": "d812e67c-7a1a-446a-9955-45885bd1ac5d",
   "metadata": {},
   "outputs": [
    {
     "data": {
      "text/html": [
       "<div>\n",
       "<style scoped>\n",
       "    .dataframe tbody tr th:only-of-type {\n",
       "        vertical-align: middle;\n",
       "    }\n",
       "\n",
       "    .dataframe tbody tr th {\n",
       "        vertical-align: top;\n",
       "    }\n",
       "\n",
       "    .dataframe thead th {\n",
       "        text-align: right;\n",
       "    }\n",
       "</style>\n",
       "<table border=\"1\" class=\"dataframe\">\n",
       "  <thead>\n",
       "    <tr style=\"text-align: right;\">\n",
       "      <th></th>\n",
       "      <th>Transaction ID</th>\n",
       "      <th>Date</th>\n",
       "      <th>Day of Week</th>\n",
       "      <th>Time</th>\n",
       "      <th>Type of Card</th>\n",
       "      <th>Entry Mode</th>\n",
       "      <th>Amount</th>\n",
       "      <th>Type of Transaction</th>\n",
       "      <th>Merchant Group</th>\n",
       "      <th>Country of Transaction</th>\n",
       "      <th>Shipping Address</th>\n",
       "      <th>Country of Residence</th>\n",
       "      <th>Gender</th>\n",
       "      <th>Age</th>\n",
       "      <th>Bank</th>\n",
       "      <th>Fraud</th>\n",
       "    </tr>\n",
       "  </thead>\n",
       "  <tbody>\n",
       "    <tr>\n",
       "      <th>4</th>\n",
       "      <td>#2771 031</td>\n",
       "      <td>13-Oct-20</td>\n",
       "      <td>Tuesday</td>\n",
       "      <td>23</td>\n",
       "      <td>Visa</td>\n",
       "      <td>CVC</td>\n",
       "      <td>91</td>\n",
       "      <td>Online</td>\n",
       "      <td>Electronics</td>\n",
       "      <td>USA</td>\n",
       "      <td>USA</td>\n",
       "      <td>United Kingdom</td>\n",
       "      <td>M</td>\n",
       "      <td>38.0</td>\n",
       "      <td>Halifax</td>\n",
       "      <td>1</td>\n",
       "    </tr>\n",
       "    <tr>\n",
       "      <th>11</th>\n",
       "      <td>#3474 192</td>\n",
       "      <td>14-Oct-20</td>\n",
       "      <td>Wednesday</td>\n",
       "      <td>1</td>\n",
       "      <td>MasterCard</td>\n",
       "      <td>PIN</td>\n",
       "      <td>106</td>\n",
       "      <td>POS</td>\n",
       "      <td>Fashion</td>\n",
       "      <td>Russia</td>\n",
       "      <td>Russia</td>\n",
       "      <td>United Kingdom</td>\n",
       "      <td>F</td>\n",
       "      <td>48.7</td>\n",
       "      <td>Metro</td>\n",
       "      <td>1</td>\n",
       "    </tr>\n",
       "    <tr>\n",
       "      <th>16</th>\n",
       "      <td>#3513 029</td>\n",
       "      <td>13-Oct-20</td>\n",
       "      <td>Tuesday</td>\n",
       "      <td>0</td>\n",
       "      <td>MasterCard</td>\n",
       "      <td>CVC</td>\n",
       "      <td>25</td>\n",
       "      <td>Online</td>\n",
       "      <td>Food</td>\n",
       "      <td>Russia</td>\n",
       "      <td>Russia</td>\n",
       "      <td>United Kingdom</td>\n",
       "      <td>M</td>\n",
       "      <td>54.3</td>\n",
       "      <td>Barlcays</td>\n",
       "      <td>1</td>\n",
       "    </tr>\n",
       "    <tr>\n",
       "      <th>37</th>\n",
       "      <td>#3316 175</td>\n",
       "      <td>14-Oct-20</td>\n",
       "      <td>Wednesday</td>\n",
       "      <td>3</td>\n",
       "      <td>MasterCard</td>\n",
       "      <td>PIN</td>\n",
       "      <td>5</td>\n",
       "      <td>ATM</td>\n",
       "      <td>Services</td>\n",
       "      <td>China</td>\n",
       "      <td>China</td>\n",
       "      <td>United Kingdom</td>\n",
       "      <td>F</td>\n",
       "      <td>62.8</td>\n",
       "      <td>Barlcays</td>\n",
       "      <td>1</td>\n",
       "    </tr>\n",
       "    <tr>\n",
       "      <th>42</th>\n",
       "      <td>#2617 497</td>\n",
       "      <td>14-Oct-20</td>\n",
       "      <td>Wednesday</td>\n",
       "      <td>4</td>\n",
       "      <td>Visa</td>\n",
       "      <td>PIN</td>\n",
       "      <td>206</td>\n",
       "      <td>POS</td>\n",
       "      <td>Children</td>\n",
       "      <td>United Kingdom</td>\n",
       "      <td>India</td>\n",
       "      <td>United Kingdom</td>\n",
       "      <td>M</td>\n",
       "      <td>46.3</td>\n",
       "      <td>Barclays</td>\n",
       "      <td>1</td>\n",
       "    </tr>\n",
       "  </tbody>\n",
       "</table>\n",
       "</div>"
      ],
      "text/plain": [
       "   Transaction ID       Date Day of Week  Time Type of Card Entry Mode Amount  \\\n",
       "4       #2771 031  13-Oct-20     Tuesday    23         Visa        CVC     91   \n",
       "11      #3474 192  14-Oct-20   Wednesday     1   MasterCard        PIN    106   \n",
       "16      #3513 029  13-Oct-20     Tuesday     0   MasterCard        CVC     25   \n",
       "37      #3316 175  14-Oct-20   Wednesday     3   MasterCard        PIN      5   \n",
       "42      #2617 497  14-Oct-20   Wednesday     4         Visa        PIN    206   \n",
       "\n",
       "   Type of Transaction Merchant Group Country of Transaction Shipping Address  \\\n",
       "4               Online    Electronics                    USA              USA   \n",
       "11                 POS        Fashion                 Russia           Russia   \n",
       "16              Online           Food                 Russia           Russia   \n",
       "37                 ATM       Services                  China            China   \n",
       "42                 POS       Children         United Kingdom            India   \n",
       "\n",
       "   Country of Residence Gender   Age      Bank  Fraud  \n",
       "4        United Kingdom      M  38.0   Halifax      1  \n",
       "11       United Kingdom      F  48.7     Metro      1  \n",
       "16       United Kingdom      M  54.3  Barlcays      1  \n",
       "37       United Kingdom      F  62.8  Barlcays      1  \n",
       "42       United Kingdom      M  46.3  Barclays      1  "
      ]
     },
     "execution_count": 26,
     "metadata": {},
     "output_type": "execute_result"
    }
   ],
   "source": [
    "fraud_data.head()"
   ]
  },
  {
   "cell_type": "code",
   "execution_count": 27,
   "id": "421f4700-338b-40c7-b5f5-e88de8f24228",
   "metadata": {},
   "outputs": [
    {
     "data": {
      "text/plain": [
       "7192"
      ]
     },
     "execution_count": 27,
     "metadata": {},
     "output_type": "execute_result"
    }
   ],
   "source": [
    "#Total Amount Fraud\n",
    "fraud_data['Amount'].value_counts().sum()"
   ]
  },
  {
   "cell_type": "code",
   "execution_count": 28,
   "id": "9f2adf16-c510-4233-b2cf-2c195317f51f",
   "metadata": {},
   "outputs": [
    {
     "data": {
      "image/png": "[encoded data removed]",
      "text/plain": [
       "<Figure size 600x400 with 1 Axes>"
      ]
     },
     "metadata": {},
     "output_type": "display_data"
    },
    {
     "data": {
      "image/png": "[encoded data removed]",
      "text/plain": [
       "<Figure size 600x400 with 1 Axes>"
      ]
     },
     "metadata": {},
     "output_type": "display_data"
    },
    {
     "data": {
      "image/png": "[encoded data removed]",
      "text/plain": [
       "<Figure size 600x400 with 1 Axes>"
      ]
     },
     "metadata": {},
     "output_type": "display_data"
    },
    {
     "data": {
      "image/png": "[encoded data removed]",
      "text/plain": [
       "<Figure size 600x400 with 1 Axes>"
      ]
     },
     "metadata": {},
     "output_type": "display_data"
    },
    {
     "data": {
      "image/png": "[encoded data removed]",
      "text/plain": [
       "<Figure size 600x400 with 1 Axes>"
      ]
     },
     "metadata": {},
     "output_type": "display_data"
    },
    {
     "data": {
      "image/png": "[encoded data removed]",
      "text/plain": [
       "<Figure size 600x400 with 1 Axes>"
      ]
     },
     "metadata": {},
     "output_type": "display_data"
    }
   ],
   "source": [
    "#VISUALISASI\n",
    "#menampilkan jumlah kasus penipuan berdasarkan jenis kartu\n",
    "plt.figure(figsize=(6, 4))\n",
    "fraud_counts = fraud_data['Type of Card'].value_counts()\n",
    "fraud_counts.plot(kind='bar')\n",
    "plt.xlabel('Jenis Kartu')\n",
    "plt.ylabel('Jumlah Kasus Penipuan')\n",
    "plt.title('Deteksi Penipuan Kartu Kredit Berdasarkan Jenis Kartu')\n",
    "plt.show()\n",
    "\n",
    "#menampilkan jumlah kasus penipuan berdasarkan kelompok pedagang\n",
    "plt.figure(figsize=(6, 4))\n",
    "fraud_counts = fraud_data['Merchant Group'].value_counts()\n",
    "fraud_counts.plot(kind='bar')\n",
    "plt.xlabel('Kelompok Pedagang')\n",
    "plt.ylabel('Jumlah Kasus Penipuan')\n",
    "plt.title('Deteksi Penipuan Kartu Kredit Berdasarkan Kelompok Pedagang')\n",
    "plt.show()\n",
    "\n",
    "#menampilkan jumlah kasus penipuan berdasarkan negara tempat transaksi dilakukan\n",
    "plt.figure(figsize=(6, 4))\n",
    "fraud_counts = fraud_data['Country of Transaction'].value_counts()\n",
    "fraud_counts.plot(kind='bar')\n",
    "plt.xlabel('Negara Transaksi')\n",
    "plt.ylabel('Jumlah Kasus Penipuan')\n",
    "plt.title('Deteksi Penipuan Kartu Kredit Berdasarkan Negara Transaksi')\n",
    "plt.show()\n",
    "\n",
    "#menampilkan jumlah kasus penipuan berdasarkan negara tempat tinggal pemegang kartu\n",
    "plt.figure(figsize=(6, 4))\n",
    "fraud_counts = fraud_data['Country of Residence'].value_counts()\n",
    "fraud_counts.plot(kind='bar')\n",
    "plt.xlabel('Negara Tempat Tinggal')\n",
    "plt.ylabel('Jumlah Kasus Penipuan')\n",
    "plt.title('Deteksi Penipuan Kartu Kredit Berdasarkan Negara Tempat Tinggal')\n",
    "plt.show()\n",
    "\n",
    "#menampilkan jumlah kasus penipuan berdasarkan jenis kelamin\n",
    "plt.figure(figsize=(6, 4))\n",
    "fraud_counts = fraud_data['Gender'].value_counts()\n",
    "fraud_counts.plot(kind='bar')\n",
    "plt.xlabel('Jenis Kelamin')\n",
    "plt.ylabel('Jumlah Kasus Penipuan')\n",
    "plt.title('Deteksi Penipuan Kartu Kredit Berdasarkan Jenis Kelamin')\n",
    "plt.show()\n",
    "\n",
    "#menampilkan jumlah kasus penipuan berdasarkan bank yang digunakan\n",
    "plt.figure(figsize=(6, 4))\n",
    "fraud_counts = fraud_data['Bank'].value_counts()\n",
    "fraud_counts.plot(kind='bar')\n",
    "plt.xlabel('Bank')\n",
    "plt.ylabel('Jumlah Kasus Penipuan')\n",
    "plt.title('Deteksi Penipuan Kartu Kredit Berdasarkan Bank')\n",
    "plt.show()"
   ]
  },
  {
   "cell_type": "code",
   "execution_count": 29,
   "id": "377864fb-09f8-40fb-825d-64536eef6aa5",
   "metadata": {},
   "outputs": [
    {
     "data": {
      "text/html": [
       "<div>\n",
       "<style scoped>\n",
       "    .dataframe tbody tr th:only-of-type {\n",
       "        vertical-align: middle;\n",
       "    }\n",
       "\n",
       "    .dataframe tbody tr th {\n",
       "        vertical-align: top;\n",
       "    }\n",
       "\n",
       "    .dataframe thead th {\n",
       "        text-align: right;\n",
       "    }\n",
       "</style>\n",
       "<table border=\"1\" class=\"dataframe\">\n",
       "  <thead>\n",
       "    <tr style=\"text-align: right;\">\n",
       "      <th></th>\n",
       "      <th>Date</th>\n",
       "      <th>Day of Week</th>\n",
       "      <th>Time</th>\n",
       "      <th>Type of Card</th>\n",
       "      <th>Entry Mode</th>\n",
       "      <th>Amount</th>\n",
       "      <th>Type of Transaction</th>\n",
       "      <th>Country of Transaction</th>\n",
       "      <th>Gender</th>\n",
       "      <th>Bank</th>\n",
       "      <th>Fraud</th>\n",
       "    </tr>\n",
       "  </thead>\n",
       "  <tbody>\n",
       "    <tr>\n",
       "      <th>0</th>\n",
       "      <td>14-Oct-20</td>\n",
       "      <td>Wednesday</td>\n",
       "      <td>19</td>\n",
       "      <td>Visa</td>\n",
       "      <td>Tap</td>\n",
       "      <td>5</td>\n",
       "      <td>POS</td>\n",
       "      <td>United Kingdom</td>\n",
       "      <td>M</td>\n",
       "      <td>RBS</td>\n",
       "      <td>0</td>\n",
       "    </tr>\n",
       "    <tr>\n",
       "      <th>1</th>\n",
       "      <td>14-Oct-20</td>\n",
       "      <td>Wednesday</td>\n",
       "      <td>17</td>\n",
       "      <td>MasterCard</td>\n",
       "      <td>PIN</td>\n",
       "      <td>288</td>\n",
       "      <td>POS</td>\n",
       "      <td>USA</td>\n",
       "      <td>F</td>\n",
       "      <td>Lloyds</td>\n",
       "      <td>0</td>\n",
       "    </tr>\n",
       "    <tr>\n",
       "      <th>2</th>\n",
       "      <td>14-Oct-20</td>\n",
       "      <td>Wednesday</td>\n",
       "      <td>14</td>\n",
       "      <td>Visa</td>\n",
       "      <td>Tap</td>\n",
       "      <td>5</td>\n",
       "      <td>POS</td>\n",
       "      <td>India</td>\n",
       "      <td>F</td>\n",
       "      <td>Barclays</td>\n",
       "      <td>0</td>\n",
       "    </tr>\n",
       "    <tr>\n",
       "      <th>3</th>\n",
       "      <td>13-Oct-20</td>\n",
       "      <td>Tuesday</td>\n",
       "      <td>14</td>\n",
       "      <td>Visa</td>\n",
       "      <td>Tap</td>\n",
       "      <td>28</td>\n",
       "      <td>POS</td>\n",
       "      <td>United Kingdom</td>\n",
       "      <td>F</td>\n",
       "      <td>Barclays</td>\n",
       "      <td>0</td>\n",
       "    </tr>\n",
       "    <tr>\n",
       "      <th>4</th>\n",
       "      <td>13-Oct-20</td>\n",
       "      <td>Tuesday</td>\n",
       "      <td>23</td>\n",
       "      <td>Visa</td>\n",
       "      <td>CVC</td>\n",
       "      <td>91</td>\n",
       "      <td>Online</td>\n",
       "      <td>USA</td>\n",
       "      <td>M</td>\n",
       "      <td>Halifax</td>\n",
       "      <td>1</td>\n",
       "    </tr>\n",
       "  </tbody>\n",
       "</table>\n",
       "</div>"
      ],
      "text/plain": [
       "        Date Day of Week  Time Type of Card Entry Mode Amount  \\\n",
       "0  14-Oct-20   Wednesday    19         Visa        Tap      5   \n",
       "1  14-Oct-20   Wednesday    17   MasterCard        PIN    288   \n",
       "2  14-Oct-20   Wednesday    14         Visa        Tap      5   \n",
       "3  13-Oct-20     Tuesday    14         Visa        Tap     28   \n",
       "4  13-Oct-20     Tuesday    23         Visa        CVC     91   \n",
       "\n",
       "  Type of Transaction Country of Transaction Gender      Bank  Fraud  \n",
       "0                 POS         United Kingdom      M       RBS      0  \n",
       "1                 POS                    USA      F    Lloyds      0  \n",
       "2                 POS                  India      F  Barclays      0  \n",
       "3                 POS         United Kingdom      F  Barclays      0  \n",
       "4              Online                    USA      M   Halifax      1  "
      ]
     },
     "execution_count": 29,
     "metadata": {},
     "output_type": "execute_result"
    }
   ],
   "source": [
    "df=df.drop(['Transaction ID', 'Merchant Group', 'Shipping Address','Country of Residence', 'Age'],axis=1)\n",
    "df.head()"
   ]
  },
  {
   "cell_type": "code",
   "execution_count": 30,
   "id": "12736aca-c2ed-40a8-86b6-e28326c7a15a",
   "metadata": {},
   "outputs": [],
   "source": [
    "#ubah data ke numerik\n",
    "from sklearn.preprocessing import LabelEncoder\n",
    "label_encoder = LabelEncoder()\n",
    "df['Date']=label_encoder.fit_transform(df['Date'])\n",
    "df['Day of Week']=label_encoder.fit_transform(df['Day of Week'])\n",
    "df['Type of Card']=label_encoder.fit_transform(df['Type of Card'])\n",
    "df['Entry Mode']=label_encoder.fit_transform(df['Entry Mode'])\n",
    "df['Type of Transaction']=label_encoder.fit_transform(df['Type of Transaction'])\n",
    "df['Country of Transaction']=label_encoder.fit_transform(df['Country of Transaction'])\n",
    "df['Gender']=label_encoder.fit_transform(df['Gender'])\n",
    "df['Bank']=label_encoder.fit_transform(df['Bank'])"
   ]
  },
  {
   "cell_type": "code",
   "execution_count": 31,
   "id": "8c2bffc4-bd7f-4ea7-aea6-7b1ff98421d9",
   "metadata": {},
   "outputs": [
    {
     "data": {
      "text/html": [
       "<div>\n",
       "<style scoped>\n",
       "    .dataframe tbody tr th:only-of-type {\n",
       "        vertical-align: middle;\n",
       "    }\n",
       "\n",
       "    .dataframe tbody tr th {\n",
       "        vertical-align: top;\n",
       "    }\n",
       "\n",
       "    .dataframe thead th {\n",
       "        text-align: right;\n",
       "    }\n",
       "</style>\n",
       "<table border=\"1\" class=\"dataframe\">\n",
       "  <thead>\n",
       "    <tr style=\"text-align: right;\">\n",
       "      <th></th>\n",
       "      <th>Date</th>\n",
       "      <th>Day of Week</th>\n",
       "      <th>Time</th>\n",
       "      <th>Type of Card</th>\n",
       "      <th>Entry Mode</th>\n",
       "      <th>Amount</th>\n",
       "      <th>Type of Transaction</th>\n",
       "      <th>Country of Transaction</th>\n",
       "      <th>Gender</th>\n",
       "      <th>Bank</th>\n",
       "      <th>Fraud</th>\n",
       "    </tr>\n",
       "  </thead>\n",
       "  <tbody>\n",
       "    <tr>\n",
       "      <th>0</th>\n",
       "      <td>1</td>\n",
       "      <td>3</td>\n",
       "      <td>19</td>\n",
       "      <td>1</td>\n",
       "      <td>2</td>\n",
       "      <td>5</td>\n",
       "      <td>2</td>\n",
       "      <td>4</td>\n",
       "      <td>1</td>\n",
       "      <td>7</td>\n",
       "      <td>0</td>\n",
       "    </tr>\n",
       "    <tr>\n",
       "      <th>1</th>\n",
       "      <td>1</td>\n",
       "      <td>3</td>\n",
       "      <td>17</td>\n",
       "      <td>0</td>\n",
       "      <td>1</td>\n",
       "      <td>288</td>\n",
       "      <td>2</td>\n",
       "      <td>3</td>\n",
       "      <td>0</td>\n",
       "      <td>4</td>\n",
       "      <td>0</td>\n",
       "    </tr>\n",
       "    <tr>\n",
       "      <th>2</th>\n",
       "      <td>1</td>\n",
       "      <td>3</td>\n",
       "      <td>14</td>\n",
       "      <td>1</td>\n",
       "      <td>2</td>\n",
       "      <td>5</td>\n",
       "      <td>2</td>\n",
       "      <td>1</td>\n",
       "      <td>0</td>\n",
       "      <td>0</td>\n",
       "      <td>0</td>\n",
       "    </tr>\n",
       "    <tr>\n",
       "      <th>3</th>\n",
       "      <td>0</td>\n",
       "      <td>2</td>\n",
       "      <td>14</td>\n",
       "      <td>1</td>\n",
       "      <td>2</td>\n",
       "      <td>28</td>\n",
       "      <td>2</td>\n",
       "      <td>4</td>\n",
       "      <td>0</td>\n",
       "      <td>0</td>\n",
       "      <td>0</td>\n",
       "    </tr>\n",
       "    <tr>\n",
       "      <th>4</th>\n",
       "      <td>0</td>\n",
       "      <td>2</td>\n",
       "      <td>23</td>\n",
       "      <td>1</td>\n",
       "      <td>0</td>\n",
       "      <td>91</td>\n",
       "      <td>1</td>\n",
       "      <td>3</td>\n",
       "      <td>1</td>\n",
       "      <td>3</td>\n",
       "      <td>1</td>\n",
       "    </tr>\n",
       "  </tbody>\n",
       "</table>\n",
       "</div>"
      ],
      "text/plain": [
       "   Date  Day of Week  Time  Type of Card  Entry Mode Amount  \\\n",
       "0     1            3    19             1           2      5   \n",
       "1     1            3    17             0           1    288   \n",
       "2     1            3    14             1           2      5   \n",
       "3     0            2    14             1           2     28   \n",
       "4     0            2    23             1           0     91   \n",
       "\n",
       "   Type of Transaction  Country of Transaction  Gender  Bank  Fraud  \n",
       "0                    2                       4       1     7      0  \n",
       "1                    2                       3       0     4      0  \n",
       "2                    2                       1       0     0      0  \n",
       "3                    2                       4       0     0      0  \n",
       "4                    1                       3       1     3      1  "
      ]
     },
     "execution_count": 31,
     "metadata": {},
     "output_type": "execute_result"
    }
   ],
   "source": [
    "df.head()"
   ]
  },
  {
   "cell_type": "code",
   "execution_count": 32,
   "id": "b79a9082-a5a3-43af-b23a-8cd09017203b",
   "metadata": {},
   "outputs": [
    {
     "data": {
      "text/html": [
       "<div>\n",
       "<style scoped>\n",
       "    .dataframe tbody tr th:only-of-type {\n",
       "        vertical-align: middle;\n",
       "    }\n",
       "\n",
       "    .dataframe tbody tr th {\n",
       "        vertical-align: top;\n",
       "    }\n",
       "\n",
       "    .dataframe thead th {\n",
       "        text-align: right;\n",
       "    }\n",
       "</style>\n",
       "<table border=\"1\" class=\"dataframe\">\n",
       "  <thead>\n",
       "    <tr style=\"text-align: right;\">\n",
       "      <th></th>\n",
       "      <th>Date</th>\n",
       "      <th>Day of Week</th>\n",
       "      <th>Time</th>\n",
       "      <th>Type of Card</th>\n",
       "      <th>Entry Mode</th>\n",
       "      <th>Amount</th>\n",
       "      <th>Type of Transaction</th>\n",
       "      <th>Country of Transaction</th>\n",
       "      <th>Gender</th>\n",
       "      <th>Bank</th>\n",
       "      <th>Fraud</th>\n",
       "    </tr>\n",
       "  </thead>\n",
       "  <tbody>\n",
       "    <tr>\n",
       "      <th>99995</th>\n",
       "      <td>0</td>\n",
       "      <td>2</td>\n",
       "      <td>22</td>\n",
       "      <td>0</td>\n",
       "      <td>2</td>\n",
       "      <td>15</td>\n",
       "      <td>2</td>\n",
       "      <td>4</td>\n",
       "      <td>0</td>\n",
       "      <td>3</td>\n",
       "      <td>0</td>\n",
       "    </tr>\n",
       "    <tr>\n",
       "      <th>99996</th>\n",
       "      <td>1</td>\n",
       "      <td>3</td>\n",
       "      <td>23</td>\n",
       "      <td>0</td>\n",
       "      <td>1</td>\n",
       "      <td>7</td>\n",
       "      <td>0</td>\n",
       "      <td>2</td>\n",
       "      <td>1</td>\n",
       "      <td>0</td>\n",
       "      <td>0</td>\n",
       "    </tr>\n",
       "    <tr>\n",
       "      <th>99997</th>\n",
       "      <td>0</td>\n",
       "      <td>2</td>\n",
       "      <td>11</td>\n",
       "      <td>0</td>\n",
       "      <td>1</td>\n",
       "      <td>21</td>\n",
       "      <td>0</td>\n",
       "      <td>4</td>\n",
       "      <td>0</td>\n",
       "      <td>2</td>\n",
       "      <td>0</td>\n",
       "    </tr>\n",
       "    <tr>\n",
       "      <th>99998</th>\n",
       "      <td>1</td>\n",
       "      <td>3</td>\n",
       "      <td>22</td>\n",
       "      <td>1</td>\n",
       "      <td>2</td>\n",
       "      <td>25</td>\n",
       "      <td>2</td>\n",
       "      <td>4</td>\n",
       "      <td>1</td>\n",
       "      <td>0</td>\n",
       "      <td>0</td>\n",
       "    </tr>\n",
       "    <tr>\n",
       "      <th>99999</th>\n",
       "      <td>1</td>\n",
       "      <td>3</td>\n",
       "      <td>16</td>\n",
       "      <td>1</td>\n",
       "      <td>1</td>\n",
       "      <td>226</td>\n",
       "      <td>2</td>\n",
       "      <td>4</td>\n",
       "      <td>1</td>\n",
       "      <td>6</td>\n",
       "      <td>0</td>\n",
       "    </tr>\n",
       "  </tbody>\n",
       "</table>\n",
       "</div>"
      ],
      "text/plain": [
       "       Date  Day of Week  Time  Type of Card  Entry Mode Amount  \\\n",
       "99995     0            2    22             0           2     15   \n",
       "99996     1            3    23             0           1      7   \n",
       "99997     0            2    11             0           1     21   \n",
       "99998     1            3    22             1           2     25   \n",
       "99999     1            3    16             1           1    226   \n",
       "\n",
       "       Type of Transaction  Country of Transaction  Gender  Bank  Fraud  \n",
       "99995                    2                       4       0     3      0  \n",
       "99996                    0                       2       1     0      0  \n",
       "99997                    0                       4       0     2      0  \n",
       "99998                    2                       4       1     0      0  \n",
       "99999                    2                       4       1     6      0  "
      ]
     },
     "execution_count": 32,
     "metadata": {},
     "output_type": "execute_result"
    }
   ],
   "source": [
    "df.tail()"
   ]
  },
  {
   "cell_type": "code",
   "execution_count": 33,
   "id": "cf98cca0-2258-429c-9141-9c913890ac42",
   "metadata": {},
   "outputs": [],
   "source": [
    "# bagi data training dan testing\n",
    "from sklearn.model_selection import train_test_split\n",
    "# Pisahkan fitur dan target\n",
    "X = df.drop(columns=['Fraud'])  # Fitur\n",
    "y = df['Fraud']  # Target\n",
    "X_train, X_test, y_train, y_test = train_test_split(X, y, test_size=0.2, random_state=2)"
   ]
  },
  {
   "cell_type": "code",
   "execution_count": 39,
   "id": "5eb8eaaf-3f26-43ae-bc60-8344b8ae1b92",
   "metadata": {},
   "outputs": [],
   "source": [
    "#Pelatihan Model RF \n",
    "from sklearn.ensemble import RandomForestClassifier\n",
    "# Membuat model Random Forest\n",
    "rf_model = RandomForestClassifier(n_estimators=100, random_state=42)\n",
    "# Melatih model dengan data latih dan Memprediksi dengan data uji (Model RF)\n",
    "rf_model.fit(X_train, y_train)\n",
    "y_pred = rf_model.predict(X_test)"
   ]
  },
  {
   "cell_type": "code",
   "execution_count": 41,
   "id": "f71c4bb5-b377-42ff-90ff-3ceda98ee3a1",
   "metadata": {},
   "outputs": [
    {
     "name": "stdout",
     "output_type": "stream",
     "text": [
      "Akurasi: 0.96\n",
      "Precision: 0.85\n",
      "Recall: 0.50\n",
      "F1-Score: 0.63\n",
      "Confusion Matrix:\n",
      "[[18408   132]\n",
      " [  726   730]]\n"
     ]
    }
   ],
   "source": [
    "#Evaluasi Model\n",
    "from sklearn.metrics import accuracy_score, precision_score, recall_score, f1_score, confusion_matrix\n",
    "# Evaluasi untuk Random Forest\n",
    "rf_accuracy = accuracy_score(y_test, y_pred)\n",
    "rf_precision = precision_score(y_test, y_pred)\n",
    "rf_recall = recall_score(y_test, y_pred)\n",
    "rf_f1 = f1_score(y_test, y_pred)\n",
    "rf_cm = confusion_matrix(y_test, y_pred)\n",
    "\n",
    "# Menampilkan hasil evaluasi\n",
    "print(f\"Akurasi: {rf_accuracy:.2f}\")\n",
    "print(f\"Precision: {rf_precision:.2f}\")\n",
    "print(f\"Recall: {rf_recall:.2f}\")\n",
    "print(f\"F1-Score: {rf_f1:.2f}\")\n",
    "print(\"Confusion Matrix:\")\n",
    "print(rf_cm)"
   ]
  },
  {
   "cell_type": "code",
   "execution_count": null,
   "id": "cb7374a0-9ca2-49d9-9333-c9ac735a9ec9",
   "metadata": {},
   "outputs": [],
   "source": []
  },
  {
   "cell_type": "code",
   "execution_count": null,
   "id": "32177302-c733-4983-a758-910fee85f1b8",
   "metadata": {},
   "outputs": [],
   "source": []
  }
 ],
 "metadata": {
  "kernelspec": {
   "display_name": "Python 3 (ipykernel)",
   "language": "python",
   "name": "python3"
  },
  "language_info": {
   "codemirror_mode": {
    "name": "ipython",
    "version": 3
   },
   "file_extension": ".py",
   "mimetype": "text/x-python",
   "name": "python",
   "nbconvert_exporter": "python",
   "pygments_lexer": "ipython3",
   "version": "3.12.4"
  }
 },
 "nbformat": 4,
 "nbformat_minor": 5
}
